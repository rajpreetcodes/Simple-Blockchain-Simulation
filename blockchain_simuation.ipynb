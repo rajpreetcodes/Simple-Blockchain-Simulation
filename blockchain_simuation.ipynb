{
 "cells": [
  {
   "cell_type": "code",
   "execution_count": 7,
   "id": "77802547-7923-48ee-af8b-26e8db145872",
   "metadata": {},
   "outputs": [
    {
     "name": "stdout",
     "output_type": "stream",
     "text": [
      "Genesis Block Hash: 3484ad5fa64785d80dffc1f59b8241206f427070f2a9833e6d8cb469e5f8c326\n",
      "Second Block Hash: a5905d09b1acaacfae5b5800ecb25b9da00201313f00354b9bac7f751be2c269\n",
      "Third Block Hash: 34c58a8b594a7806d09b4eb9a0710c85e66932cef9473f29e4429a52bee08efb\n",
      "\n",
      "--- After Tampering ---\n",
      "Original Third Block's previous_hash: a5905d09b1acaacfae5b5800ecb25b9da00201313f00354b9bac7f751be2c269\n",
      "New Second Block Hash: b9489db6c3b73966dc1d852a3febc472dc151ddd7bbe73e630044103142bb34e\n",
      "The chain is broken!\n"
     ]
    }
   ],
   "source": [
    "import hashlib\n",
    "import time\n",
    "\n",
    "class Block:\n",
    "    def __init__(self,data,previous_hash):\n",
    "        self.timestamp=time.time()\n",
    "        self.data=data\n",
    "        self.previous_hash=previous_hash\n",
    "        hash_string=str(self.timestamp)+str(self.data)+str(self.previous_hash)\n",
    "        self.hash=hashlib.sha256(hash_string.encode()).hexdigest()\n",
    "\n",
    "#Create the blockchain\n",
    "genesis_block=Block(\"Genesis Block\",\"0\")\n",
    "second_block=Block(\"This is the second block.\",genesis_block.hash)\n",
    "third_block=Block(\"This is the third block.\",second_block.hash)\n",
    "\n",
    "print(\"Genesis Block Hash:\",genesis_block.hash)\n",
    "print(\"Second Block Hash:\",second_block.hash)\n",
    "print(\"Third Block Hash:\",third_block.hash)\n",
    "\n",
    "#Simulate tampering\n",
    "print(\"\\n--- After Tampering ---\")\n",
    "second_block.data=\"I'm changing the data!\"\n",
    "hash_string=str(second_block.timestamp)+str(second_block.data)+str(second_block.previous_hash)\n",
    "second_block.hash=hashlib.sha256(hash_string.encode()).hexdigest() #Recalculate the hash\n",
    "\n",
    "print(\"Original Third Block's previous_hash:\",third_block.previous_hash)\n",
    "print(\"New Second Block Hash:\",second_block.hash)\n",
    "\n",
    "if third_block.previous_hash==second_block.hash:\n",
    "    print(\"The chain is still valid.\")\n",
    "else:\n",
    "    print(\"The chain is broken!\")"
   ]
  },
  {
   "cell_type": "code",
   "execution_count": null,
   "id": "fafadcc8-4eba-4b43-bc5e-6e254df104f9",
   "metadata": {},
   "outputs": [],
   "source": []
  }
 ],
 "metadata": {
  "kernelspec": {
   "display_name": "Python 3 (ipykernel)",
   "language": "python",
   "name": "python3"
  },
  "language_info": {
   "codemirror_mode": {
    "name": "ipython",
    "version": 3
   },
   "file_extension": ".py",
   "mimetype": "text/x-python",
   "name": "python",
   "nbconvert_exporter": "python",
   "pygments_lexer": "ipython3",
   "version": "3.13.2"
  }
 },
 "nbformat": 4,
 "nbformat_minor": 5
}
