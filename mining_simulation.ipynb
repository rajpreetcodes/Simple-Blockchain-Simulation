{
 "cells": [
  {
   "cell_type": "code",
   "execution_count": 4,
   "id": "9ecd9660-5d02-4722-a60e-352a67b61de1",
   "metadata": {},
   "outputs": [
    {
     "name": "stdout",
     "output_type": "stream",
     "text": [
      "Block mined! Hash: 0000c0a7d7eb55187610b382ec0c44f4c1d260a8a166ede2a3f2020bbbc3457a\n"
     ]
    }
   ],
   "source": [
    "import hashlib\n",
    "import time\n",
    "\n",
    "class Block:\n",
    "    def __init__(self,data,previous_hash):\n",
    "        self.timestamp=time.time()\n",
    "        self.data=data\n",
    "        self.previous_hash=previous_hash\n",
    "        self.nonce=0\n",
    "        hash_string=str(self.timestamp)+str(self.data)+str(self.previous_hash)+str(self.nonce)\n",
    "        self.hash=hashlib.sha256(hash_string.encode()).hexdigest()\n",
    "\n",
    "#Create and mine a new block\n",
    "difficulty=4\n",
    "previous_block_hash=\"a1b2c3d4e5f6\"\n",
    "new_block=Block(\"This block has been mined!\",previous_block_hash)\n",
    "\n",
    "target=\"0\"*difficulty\n",
    "while new_block.hash[:difficulty]!=target: #Keep mining until the hash is found\n",
    "    new_block.nonce+=1\n",
    "    hash_string=str(new_block.timestamp)+str(new_block.data)+str(new_block.previous_hash)+str(new_block.nonce)\n",
    "    new_block.hash=hashlib.sha256(hash_string.encode()).hexdigest()\n",
    "\n",
    "print(f\"Block mined! Hash: {new_block.hash}\")"
   ]
  },
  {
   "cell_type": "code",
   "execution_count": null,
   "id": "77111c3e-8ded-4cd4-a7f5-f3a10b5a7355",
   "metadata": {},
   "outputs": [],
   "source": []
  },
  {
   "cell_type": "code",
   "execution_count": null,
   "id": "c0033c94-52f7-4ab0-a0c8-16ee1c5a2dd9",
   "metadata": {},
   "outputs": [],
   "source": []
  }
 ],
 "metadata": {
  "kernelspec": {
   "display_name": "Python 3 (ipykernel)",
   "language": "python",
   "name": "python3"
  },
  "language_info": {
   "codemirror_mode": {
    "name": "ipython",
    "version": 3
   },
   "file_extension": ".py",
   "mimetype": "text/x-python",
   "name": "python",
   "nbconvert_exporter": "python",
   "pygments_lexer": "ipython3",
   "version": "3.13.2"
  }
 },
 "nbformat": 4,
 "nbformat_minor": 5
}
