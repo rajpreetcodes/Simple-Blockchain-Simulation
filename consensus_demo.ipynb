{
 "cells": [
  {
   "cell_type": "code",
   "execution_count": null,
   "id": "27ec009f-b39c-4742-a84f-cbb63a5c13f1",
   "metadata": {},
   "outputs": [],
   "source": [
    "import random\n",
    "\n",
    "#--- Proof of Work Simulation ---\n",
    "print(\"--- Proof of Work Simulation ---\")\n",
    "miner1_time=random.random()*10\n",
    "miner2_time=random.random()*10\n",
    "if miner1_time<miner2_time:\n",
    "    print(f\"Miner 1 wins! (Mined in {miner1_time:.2f} seconds)\")\n",
    "else:\n",
    "    print(f\"Miner 2 wins! (Mined in {miner2_time:.2f} seconds)\")\n",
    "\n",
    "#---Proof of Stake Simulation ---\n",
    "print(\"\\n--- Proof of Stake Simulation ---\")\n",
    "validators={\"Alice\":100,\"Bob\":50,\"Charlie\":200}\n",
    "total_stake=sum(validators.values())\n",
    "pick=random.uniform(0,total_stake)\n",
    "current=0\n",
    "for validator,stake in validators.items():\n",
    "    current+=stake\n",
    "    if current>pick: #Select validator based on stake\n",
    "        print(f\"Validator '{validator}' chosen to create the next block.\")\n",
    "        break\n",
    "\n",
    "#--- Delegated Proof of Stake Simulation ---\n",
    "print(\"\\n--- Delegated Proof of Stake Simulation ---\")\n",
    "delegates=[\"Daniel\",\"Eva\",\"Frank\",\"Grace\",\"Henry\"]\n",
    "votes={\"Voter1\":[\"Daniel\",\"Eva\",\"Frank\"],\"Voter2\":[\"Eva\",\"Grace\"],\"Voter3\":[\"Daniel\",\"Henry\",\"Grace\"],\"Voter4\":[\"Daniel\",\"Eva\"]}\n",
    "delegate_votes={delegate:0 for delegate in delegates}\n",
    "for voter,choices in votes.items():\n",
    "    for delegate in choices:\n",
    "        if delegate in delegate_votes:\n",
    "            delegate_votes[delegate]+=1\n",
    "\n",
    "elected_delegates=sorted(delegate_votes,key=delegate_votes.get,reverse=True)[:3] #Get top 3 delegates\n",
    "print(f\"The elected delegates are: {', '.join(elected_delegates)}\")"
   ]
  }
 ],
 "metadata": {
  "kernelspec": {
   "display_name": "Python 3 (ipykernel)",
   "language": "python",
   "name": "python3"
  },
  "language_info": {
   "codemirror_mode": {
    "name": "ipython",
    "version": 3
   },
   "file_extension": ".py",
   "mimetype": "text/x-python",
   "name": "python",
   "nbconvert_exporter": "python",
   "pygments_lexer": "ipython3",
   "version": "3.13.2"
  }
 },
 "nbformat": 4,
 "nbformat_minor": 5
}
